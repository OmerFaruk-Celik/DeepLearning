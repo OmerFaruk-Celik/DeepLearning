{
 "cells": [
  {
   "cell_type": "code",
   "execution_count": 8,
   "id": "cd13363f-2c79-45e1-9ef4-f0a9552c132c",
   "metadata": {},
   "outputs": [],
   "source": [
    "import cv2\n",
    "import numpy as np"
   ]
  },
  {
   "cell_type": "code",
   "execution_count": 5,
   "id": "212649bc-b075-4972-8ad7-7864401b6e48",
   "metadata": {},
   "outputs": [],
   "source": [
    "# Resmi yükle\n",
    "image_path = \"/home/celik/github/DeepLearning/images/resim1.jpeg\"  # Resim dosyanızın yolu\n",
    "image = cv2.imread(image_path)"
   ]
  },
  {
   "cell_type": "code",
   "execution_count": 9,
   "id": "cf6074c2-0bd4-4176-aca8-f75fde869a6f",
   "metadata": {},
   "outputs": [
    {
     "data": {
      "text/plain": [
       "(225, 225, 3)"
      ]
     },
     "execution_count": 9,
     "metadata": {},
     "output_type": "execute_result"
    }
   ],
   "source": [
    "np.shape(image)"
   ]
  },
  {
   "cell_type": "code",
   "execution_count": 18,
   "id": "7008e15c-99a7-4ba5-a655-98edd96a16d0",
   "metadata": {},
   "outputs": [
    {
     "data": {
      "text/plain": [
       "np.uint8(173)"
      ]
     },
     "execution_count": 18,
     "metadata": {},
     "output_type": "execute_result"
    }
   ],
   "source": [
    "image[2,0,0]"
   ]
  },
  {
   "cell_type": "code",
   "execution_count": 21,
   "id": "5317fc70-d4fb-425f-b993-a075227c2ca3",
   "metadata": {},
   "outputs": [
    {
     "data": {
      "text/plain": [
       "array([[[185, 185, 185]],\n",
       "\n",
       "       [[176, 176, 176]],\n",
       "\n",
       "       [[173, 173, 173]],\n",
       "\n",
       "       [[159, 159, 159]],\n",
       "\n",
       "       [[144, 144, 144]]], dtype=uint8)"
      ]
     },
     "execution_count": 21,
     "metadata": {},
     "output_type": "execute_result"
    }
   ],
   "source": [
    "image[:5,:1]"
   ]
  },
  {
   "cell_type": "code",
   "execution_count": null,
   "id": "2ac9cb4a-69f8-4f99-9361-a565204b0b57",
   "metadata": {},
   "outputs": [],
   "source": []
  }
 ],
 "metadata": {
  "kernelspec": {
   "display_name": "Python 3 (ipykernel)",
   "language": "python",
   "name": "python3"
  },
  "language_info": {
   "codemirror_mode": {
    "name": "ipython",
    "version": 3
   },
   "file_extension": ".py",
   "mimetype": "text/x-python",
   "name": "python",
   "nbconvert_exporter": "python",
   "pygments_lexer": "ipython3",
   "version": "3.13.0"
  }
 },
 "nbformat": 4,
 "nbformat_minor": 5
}
