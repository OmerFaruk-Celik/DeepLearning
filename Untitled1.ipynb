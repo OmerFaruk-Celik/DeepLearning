{
 "cells": [
  {
   "cell_type": "code",
   "execution_count": 1,
   "id": "cd13363f-2c79-45e1-9ef4-f0a9552c132c",
   "metadata": {},
   "outputs": [],
   "source": [
    "import cv2\n",
    "import numpy as np"
   ]
  },
  {
   "cell_type": "code",
   "execution_count": 17,
   "id": "212649bc-b075-4972-8ad7-7864401b6e48",
   "metadata": {},
   "outputs": [],
   "source": [
    "# Resmi yükle\n",
    "image_path = \"/home/celik/github/DeepLearning/images/resim6.jpeg\"  # Resim dosyanızın yolu\n",
    "image = cv2.imread(image_path)"
   ]
  },
  {
   "cell_type": "code",
   "execution_count": 18,
   "id": "cf6074c2-0bd4-4176-aca8-f75fde869a6f",
   "metadata": {},
   "outputs": [
    {
     "data": {
      "text/plain": [
       "(225, 225, 3)"
      ]
     },
     "execution_count": 18,
     "metadata": {},
     "output_type": "execute_result"
    }
   ],
   "source": [
    "np.shape(image)"
   ]
  },
  {
   "cell_type": "code",
   "execution_count": 19,
   "id": "7008e15c-99a7-4ba5-a655-98edd96a16d0",
   "metadata": {},
   "outputs": [
    {
     "data": {
      "text/plain": [
       "np.uint8(4)"
      ]
     },
     "execution_count": 19,
     "metadata": {},
     "output_type": "execute_result"
    }
   ],
   "source": [
    "image[2,0,0]"
   ]
  },
  {
   "cell_type": "code",
   "execution_count": 20,
   "id": "5317fc70-d4fb-425f-b993-a075227c2ca3",
   "metadata": {},
   "outputs": [
    {
     "data": {
      "text/plain": [
       "array([[[  3,  17, 195]],\n",
       "\n",
       "       [[  4,  18, 196]],\n",
       "\n",
       "       [[  4,  18, 196]],\n",
       "\n",
       "       [[  4,  18, 196]],\n",
       "\n",
       "       [[  5,  19, 197]]], dtype=uint8)"
      ]
     },
     "execution_count": 20,
     "metadata": {},
     "output_type": "execute_result"
    }
   ],
   "source": [
    "image[:5,:1]"
   ]
  },
  {
   "cell_type": "code",
   "execution_count": null,
   "id": "2ac9cb4a-69f8-4f99-9361-a565204b0b57",
   "metadata": {},
   "outputs": [],
   "source": []
  },
  {
   "cell_type": "code",
   "execution_count": 21,
   "id": "2f252895-0c49-44fe-8687-12d9cbe0e33e",
   "metadata": {},
   "outputs": [],
   "source": [
    "def filtre(im,f):\n",
    "    filtre=np.array([[1,2,1],[1,1,1],[1,1,1]])\n",
    "    if f==\"medyan\":\n",
    "        r=np.max(im[:,:,2])\n",
    "        g=np.max(im[:,:,1])\n",
    "        b=np.max(im[:,:,0])\n",
    "        return b,g,r\n",
    "\n",
    "            \n",
    "    "
   ]
  },
  {
   "cell_type": "code",
   "execution_count": 22,
   "id": "fc63929d-f330-4fd2-a7ca-04c8a41c3c21",
   "metadata": {},
   "outputs": [],
   "source": [
    "a=image"
   ]
  },
  {
   "cell_type": "code",
   "execution_count": 23,
   "id": "44701668-580f-4756-8758-3467f417b4e1",
   "metadata": {},
   "outputs": [],
   "source": [
    "x=5\n",
    "y=5\n",
    "ekle_y=1\n",
    "ekle_x=1\n",
    "array = np.zeros((255, 255, 3), dtype=np.uint8)\n",
    "while True:\n",
    "    a_part=a[:x,:y]\n",
    "    array[:x,:y]=filtre(a_part,\"medyan\")\n",
    "    y+=ekle_y\n",
    "    if(y>=255):\n",
    "        y=5\n",
    "        x+=ekle_x\n",
    "        if x>=255:\n",
    "            break"
   ]
  },
  {
   "cell_type": "code",
   "execution_count": 25,
   "id": "224e45fe-37f2-47b7-992b-02fca2f2f081",
   "metadata": {},
   "outputs": [
    {
     "data": {
      "text/plain": [
       "array([[[250, 255, 255],\n",
       "        [250, 255, 255],\n",
       "        [250, 255, 255],\n",
       "        ...,\n",
       "        [250, 255, 255],\n",
       "        [250, 255, 255],\n",
       "        [250, 255, 255]],\n",
       "\n",
       "       [[250, 255, 255],\n",
       "        [250, 255, 255],\n",
       "        [250, 255, 255],\n",
       "        ...,\n",
       "        [250, 255, 255],\n",
       "        [250, 255, 255],\n",
       "        [250, 255, 255]],\n",
       "\n",
       "       [[250, 255, 255],\n",
       "        [250, 255, 255],\n",
       "        [250, 255, 255],\n",
       "        ...,\n",
       "        [250, 255, 255],\n",
       "        [250, 255, 255],\n",
       "        [250, 255, 255]],\n",
       "\n",
       "       ...,\n",
       "\n",
       "       [[250, 255, 255],\n",
       "        [250, 255, 255],\n",
       "        [250, 255, 255],\n",
       "        ...,\n",
       "        [250, 255, 255],\n",
       "        [250, 255, 255],\n",
       "        [250, 255, 255]],\n",
       "\n",
       "       [[250, 255, 255],\n",
       "        [250, 255, 255],\n",
       "        [250, 255, 255],\n",
       "        ...,\n",
       "        [250, 255, 255],\n",
       "        [250, 255, 255],\n",
       "        [250, 255, 255]],\n",
       "\n",
       "       [[250, 255, 255],\n",
       "        [250, 255, 255],\n",
       "        [250, 255, 255],\n",
       "        ...,\n",
       "        [250, 255, 255],\n",
       "        [250, 255, 255],\n",
       "        [250, 255, 255]]], shape=(225, 225, 3), dtype=uint8)"
      ]
     },
     "execution_count": 25,
     "metadata": {},
     "output_type": "execute_result"
    }
   ],
   "source": [
    "a"
   ]
  },
  {
   "cell_type": "code",
   "execution_count": null,
   "id": "88b4bb0f-6f27-45b8-8369-dd5b71f23224",
   "metadata": {},
   "outputs": [],
   "source": []
  },
  {
   "cell_type": "code",
   "execution_count": null,
   "id": "f74c95cb-0803-45ea-8837-2ed8fd0e82d8",
   "metadata": {},
   "outputs": [],
   "source": []
  },
  {
   "cell_type": "code",
   "execution_count": 24,
   "id": "388a7584-903b-411e-95e5-cdedb3dd98d9",
   "metadata": {},
   "outputs": [],
   "source": [
    "\n",
    "cv2.imshow(\"resim1\",a)\n",
    "    # Pencereyi açık tutmak için bir tuşa basılmasını bekle\n",
    "cv2.waitKey(0)\n",
    "\n",
    "# Tüm pencereleri kapat\n",
    "cv2.destroyAllWindows()"
   ]
  },
  {
   "cell_type": "code",
   "execution_count": 21,
   "id": "d0d0ce6e-7f8f-4b5f-be52-f7e777c1cad7",
   "metadata": {},
   "outputs": [
    {
     "data": {
      "text/plain": [
       "np.uint8(185)"
      ]
     },
     "execution_count": 21,
     "metadata": {},
     "output_type": "execute_result"
    }
   ],
   "source": [
    "np.max(a[])"
   ]
  },
  {
   "cell_type": "code",
   "execution_count": 18,
   "id": "e331abed-c0bf-4427-914d-029ae8054abf",
   "metadata": {},
   "outputs": [
    {
     "data": {
      "text/plain": [
       "array([[[185, 185, 185],\n",
       "        [161, 161, 161],\n",
       "        [151, 151, 151],\n",
       "        ...,\n",
       "        [105, 105, 105],\n",
       "        [104, 104, 104],\n",
       "        [ 93,  93,  93]],\n",
       "\n",
       "       [[176, 176, 176],\n",
       "        [172, 172, 172],\n",
       "        [134, 134, 134],\n",
       "        ...,\n",
       "        [ 96,  96,  96],\n",
       "        [ 79,  79,  79],\n",
       "        [ 90,  90,  90]],\n",
       "\n",
       "       [[173, 173, 173],\n",
       "        [149, 149, 149],\n",
       "        [138, 138, 138],\n",
       "        ...,\n",
       "        [ 91,  91,  91],\n",
       "        [104, 104, 104],\n",
       "        [122, 122, 122]],\n",
       "\n",
       "       ...,\n",
       "\n",
       "       [[172, 172, 172],\n",
       "        [188, 188, 188],\n",
       "        [137, 137, 137],\n",
       "        ...,\n",
       "        [111, 111, 111],\n",
       "        [109, 109, 109],\n",
       "        [121, 121, 121]],\n",
       "\n",
       "       [[155, 155, 155],\n",
       "        [190, 190, 190],\n",
       "        [159, 159, 159],\n",
       "        ...,\n",
       "        [ 88,  88,  88],\n",
       "        [104, 104, 104],\n",
       "        [118, 118, 118]],\n",
       "\n",
       "       [[157, 157, 157],\n",
       "        [135, 135, 135],\n",
       "        [143, 143, 143],\n",
       "        ...,\n",
       "        [108, 108, 108],\n",
       "        [119, 119, 119],\n",
       "        [ 95,  95,  95]]], shape=(20, 20, 3), dtype=uint8)"
      ]
     },
     "execution_count": 18,
     "metadata": {},
     "output_type": "execute_result"
    }
   ],
   "source": [
    "a"
   ]
  },
  {
   "cell_type": "code",
   "execution_count": null,
   "id": "1df57c59-0c41-4653-b751-2e0645a6fb7e",
   "metadata": {},
   "outputs": [],
   "source": []
  }
 ],
 "metadata": {
  "kernelspec": {
   "display_name": "Python 3 (ipykernel)",
   "language": "python",
   "name": "python3"
  },
  "language_info": {
   "codemirror_mode": {
    "name": "ipython",
    "version": 3
   },
   "file_extension": ".py",
   "mimetype": "text/x-python",
   "name": "python",
   "nbconvert_exporter": "python",
   "pygments_lexer": "ipython3",
   "version": "3.13.0"
  }
 },
 "nbformat": 4,
 "nbformat_minor": 5
}
