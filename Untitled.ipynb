{
 "cells": [
  {
   "cell_type": "code",
   "execution_count": 1,
   "id": "ae7be818-ecc4-49ef-b376-8e106cbbebca",
   "metadata": {},
   "outputs": [
    {
     "name": "stdout",
     "output_type": "stream",
     "text": [
      "Collecting kagglehub\n",
      "  Downloading kagglehub-0.3.11-py3-none-any.whl.metadata (32 kB)\n",
      "Requirement already satisfied: packaging in /home/celik/miniconda3/envs/AI/lib/python3.13/site-packages (from kagglehub) (24.2)\n",
      "Requirement already satisfied: pyyaml in /home/celik/miniconda3/envs/AI/lib/python3.13/site-packages (from kagglehub) (6.0.2)\n",
      "Requirement already satisfied: requests in /home/celik/miniconda3/envs/AI/lib/python3.13/site-packages (from kagglehub) (2.32.3)\n",
      "Requirement already satisfied: tqdm in /home/celik/miniconda3/envs/AI/lib/python3.13/site-packages (from kagglehub) (4.66.5)\n",
      "Requirement already satisfied: charset-normalizer<4,>=2 in /home/celik/miniconda3/envs/AI/lib/python3.13/site-packages (from requests->kagglehub) (3.4.0)\n",
      "Requirement already satisfied: idna<4,>=2.5 in /home/celik/miniconda3/envs/AI/lib/python3.13/site-packages (from requests->kagglehub) (3.7)\n",
      "Requirement already satisfied: urllib3<3,>=1.21.1 in /home/celik/miniconda3/envs/AI/lib/python3.13/site-packages (from requests->kagglehub) (1.26.20)\n",
      "Requirement already satisfied: certifi>=2017.4.17 in /home/celik/miniconda3/envs/AI/lib/python3.13/site-packages (from requests->kagglehub) (2024.12.14)\n",
      "Downloading kagglehub-0.3.11-py3-none-any.whl (63 kB)\n",
      "Installing collected packages: kagglehub\n",
      "Successfully installed kagglehub-0.3.11\n"
     ]
    }
   ],
   "source": [
    "!pip install kagglehub"
   ]
  },
  {
   "cell_type": "code",
   "execution_count": 3,
   "id": "aeba64c8-7c0a-467c-b157-dc95f1dfa4dd",
   "metadata": {},
   "outputs": [],
   "source": [
    "import kagglehub"
   ]
  },
  {
   "cell_type": "code",
   "execution_count": 4,
   "id": "1aa95049-c7d8-4c44-9a1b-14204c5e2f17",
   "metadata": {},
   "outputs": [
    {
     "name": "stdout",
     "output_type": "stream",
     "text": [
      "Downloading from https://www.kaggle.com/api/v1/datasets/download/olcaybolat1/dermatology-dataset-classification?dataset_version_number=5...\n"
     ]
    },
    {
     "name": "stderr",
     "output_type": "stream",
     "text": [
      "100%|██████████████████████████████████████| 5.13k/5.13k [00:00<00:00, 8.62MB/s]"
     ]
    },
    {
     "name": "stdout",
     "output_type": "stream",
     "text": [
      "Extracting files...\n",
      "Path to dataset files: /home/celik/.cache/kagglehub/datasets/olcaybolat1/dermatology-dataset-classification/versions/5\n"
     ]
    },
    {
     "name": "stderr",
     "output_type": "stream",
     "text": [
      "\n"
     ]
    }
   ],
   "source": [
    "# Download latest version\n",
    "path = kagglehub.dataset_download(\"olcaybolat1/dermatology-dataset-classification\")\n",
    "\n",
    "print(\"Path to dataset files:\", path)"
   ]
  },
  {
   "cell_type": "code",
   "execution_count": 7,
   "id": "f6a10f1c-acbf-484b-a4b5-2b9ee4ca6c06",
   "metadata": {},
   "outputs": [
    {
     "name": "stdout",
     "output_type": "stream",
     "text": [
      "Downloading from https://www.kaggle.com/api/v1/datasets/download/ismailpromus/skin-diseases-image-dataset?dataset_version_number=1...\n"
     ]
    },
    {
     "name": "stderr",
     "output_type": "stream",
     "text": [
      "100%|██████████████████████████████████████| 5.19G/5.19G [10:14<00:00, 9.06MB/s]"
     ]
    },
    {
     "name": "stdout",
     "output_type": "stream",
     "text": [
      "Extracting files...\n"
     ]
    },
    {
     "name": "stderr",
     "output_type": "stream",
     "text": [
      "\n"
     ]
    },
    {
     "name": "stdout",
     "output_type": "stream",
     "text": [
      "Path to dataset files: /home/celik/.cache/kagglehub/datasets/ismailpromus/skin-diseases-image-dataset/versions/1\n"
     ]
    }
   ],
   "source": [
    "# Download latest version\n",
    "path = kagglehub.dataset_download(\"ismailpromus/skin-diseases-image-dataset\")\n",
    "\n",
    "print(\"Path to dataset files:\", path)"
   ]
  },
  {
   "cell_type": "code",
   "execution_count": 3,
   "id": "40f71231-3492-4371-af77-a77bf1164bb4",
   "metadata": {},
   "outputs": [],
   "source": [
    "import cv2\n",
    "import numpy as np\n",
    "import os"
   ]
  },
  {
   "cell_type": "code",
   "execution_count": 8,
   "id": "769bff7c-31b2-42e5-b6e2-e3f076162e65",
   "metadata": {},
   "outputs": [
    {
     "data": {
      "text/plain": [
       "['3. Akne',\n",
       " '1. Enfeksiyonel',\n",
       " '6. Malign',\n",
       " '2. Ekzama',\n",
       " '5. Benign',\n",
       " '4. Pigment']"
      ]
     },
     "execution_count": 8,
     "metadata": {},
     "output_type": "execute_result"
    }
   ],
   "source": [
    "os.listdir(\"kaggle/train\")"
   ]
  },
  {
   "cell_type": "code",
   "execution_count": 12,
   "id": "a43d979a-8d49-4776-adc4-603acd4e2bea",
   "metadata": {},
   "outputs": [
    {
     "ename": "FileNotFoundError",
     "evalue": "[Errno 2] No such file or directory: '/home/celik/github/DeepLearning/IMG_CLASSES/Eczema'",
     "output_type": "error",
     "traceback": [
      "\u001b[0;31m---------------------------------------------------------------------------\u001b[0m",
      "\u001b[0;31mFileNotFoundError\u001b[0m                         Traceback (most recent call last)",
      "Cell \u001b[0;32mIn[12], line 37\u001b[0m\n\u001b[1;32m     35\u001b[0m \u001b[38;5;28;01mfor\u001b[39;00m class_name \u001b[38;5;129;01min\u001b[39;00m class_names:\n\u001b[1;32m     36\u001b[0m     class_path \u001b[38;5;241m=\u001b[39m os\u001b[38;5;241m.\u001b[39mpath\u001b[38;5;241m.\u001b[39mjoin(base_dir, class_name)\n\u001b[0;32m---> 37\u001b[0m     images \u001b[38;5;241m=\u001b[39m [os\u001b[38;5;241m.\u001b[39mpath\u001b[38;5;241m.\u001b[39mjoin(class_path, f) \u001b[38;5;28;01mfor\u001b[39;00m f \u001b[38;5;129;01min\u001b[39;00m \u001b[43mos\u001b[49m\u001b[38;5;241;43m.\u001b[39;49m\u001b[43mlistdir\u001b[49m\u001b[43m(\u001b[49m\u001b[43mclass_path\u001b[49m\u001b[43m)\u001b[49m \u001b[38;5;28;01mif\u001b[39;00m os\u001b[38;5;241m.\u001b[39mpath\u001b[38;5;241m.\u001b[39misfile(os\u001b[38;5;241m.\u001b[39mpath\u001b[38;5;241m.\u001b[39mjoin(class_path, f))]\n\u001b[1;32m     38\u001b[0m     class_image_paths[class_name] \u001b[38;5;241m=\u001b[39m images\n\u001b[1;32m     39\u001b[0m     min_count \u001b[38;5;241m=\u001b[39m \u001b[38;5;28mmin\u001b[39m(min_count, \u001b[38;5;28mlen\u001b[39m(images))\n",
      "\u001b[0;31mFileNotFoundError\u001b[0m: [Errno 2] No such file or directory: '/home/celik/github/DeepLearning/IMG_CLASSES/Eczema'"
     ]
    }
   ],
   "source": [
    "import os\n",
    "import shutil\n",
    "from sklearn.model_selection import train_test_split\n",
    "\n",
    "# Ana dizin ve sınıf isimleri\n",
    "base_dir = \"/home/celik/github/DeepLearning/IMG_CLASSES\"\n",
    "output_dir = \"/home/celik/github/DeepLearning/images\"\n",
    "class_names = [\n",
    "    \"Eczema\",\n",
    "    \"Melanoma\",\n",
    "    \"AtopicDermatitis\",\n",
    "    \"Basal Cell Carcinoma (BCC)\",\n",
    "    \"Melanocytic Nevi (NV)\",\n",
    "    \"Benign Keratosis-like Lesions (BKL)\",\n",
    "    \"Psoriasis pictures Lichen Planus and related diseases\",\n",
    "    \"Seborrheic Keratoses and other Benign Tumors\",\n",
    "    \"Tinea Ringworm Candidiasis and other Fungal Infections\",\n",
    "    \"Warts Molluscum and other Viral Infections\"\n",
    "]\n",
    "\n",
    "# Train, Validation, Test oranları\n",
    "train_ratio = 0.7\n",
    "val_ratio = 0.2\n",
    "test_ratio = 0.1\n",
    "\n",
    "# Klasörleri oluştur\n",
    "os.makedirs(output_dir, exist_ok=True)\n",
    "for folder in [\"train\", \"validation\", \"test\"]:\n",
    "    os.makedirs(os.path.join(output_dir, folder), exist_ok=True)\n",
    "\n",
    "# Her sınıfta minimum görüntü sayısını bul\n",
    "min_count = float('inf')\n",
    "class_image_paths = {}\n",
    "\n",
    "for class_name in class_names:\n",
    "    class_path = os.path.join(base_dir, class_name)\n",
    "    images = [os.path.join(class_path, f) for f in os.listdir(class_path) if os.path.isfile(os.path.join(class_path, f))]\n",
    "    class_image_paths[class_name] = images\n",
    "    min_count = min(min_count, len(images))\n",
    "\n",
    "# Sınıfları Train, Validation, Test olarak ayır\n",
    "for class_name, image_paths in class_image_paths.items():\n",
    "    # En az sayıda görüntü kadar kullan\n",
    "    selected_images = image_paths[:min_count]\n",
    "    extra_images = image_paths[min_count:]  # Fazlalık görüntüler\n",
    "\n",
    "    # Train / Validation / Test bölme\n",
    "    train_val_split, test_split = train_test_split(selected_images, test_size=test_ratio, random_state=42)\n",
    "    train_split, val_split = train_test_split(train_val_split, test_size=val_ratio / (train_ratio + val_ratio), random_state=42)\n",
    "\n",
    "    # İlgili klasörlere kopyalama\n",
    "    for split, split_name in zip([train_split, val_split, test_split], [\"train\", \"validation\", \"test\"]):\n",
    "        split_dir = os.path.join(output_dir, split_name, class_name)\n",
    "        os.makedirs(split_dir, exist_ok=True)\n",
    "        for img_path in split:\n",
    "            shutil.copy(img_path, os.path.join(split_dir, os.path.basename(img_path)))\n",
    "\n",
    "    # Fazlalık görüntüleri extra klasörüne taşı\n",
    "    if extra_images:\n",
    "        extra_dir = os.path.join(output_dir, \"extra\", class_name)\n",
    "        os.makedirs(extra_dir, exist_ok=True)\n",
    "        for img_path in extra_images:\n",
    "            shutil.copy(img_path, os.path.join(extra_dir, os.path.basename(img_path)))\n",
    "\n",
    "print(\"Görüntüler başarıyla ayrıldı!\")"
   ]
  },
  {
   "cell_type": "code",
   "execution_count": 11,
   "id": "53c50af3-0b43-4eef-8989-43d9f18c20ef",
   "metadata": {},
   "outputs": [
    {
     "name": "stdout",
     "output_type": "stream",
     "text": [
      "Collecting scikit-learn\n",
      "  Downloading scikit_learn-1.6.1-cp313-cp313-manylinux_2_17_x86_64.manylinux2014_x86_64.whl.metadata (18 kB)\n",
      "Requirement already satisfied: numpy>=1.19.5 in /home/celik/miniconda3/envs/AI/lib/python3.13/site-packages (from scikit-learn) (2.2.0)\n",
      "Requirement already satisfied: scipy>=1.6.0 in /home/celik/miniconda3/envs/AI/lib/python3.13/site-packages (from scikit-learn) (1.15.2)\n",
      "Collecting joblib>=1.2.0 (from scikit-learn)\n",
      "  Downloading joblib-1.4.2-py3-none-any.whl.metadata (5.4 kB)\n",
      "Collecting threadpoolctl>=3.1.0 (from scikit-learn)\n",
      "  Downloading threadpoolctl-3.6.0-py3-none-any.whl.metadata (13 kB)\n",
      "Downloading scikit_learn-1.6.1-cp313-cp313-manylinux_2_17_x86_64.manylinux2014_x86_64.whl (13.2 MB)\n",
      "\u001b[2K   \u001b[38;2;114;156;31m━━━━━━━━━━━━━━━━━━━━━━━━━━━━━━━━━━━━━━━━\u001b[0m \u001b[32m13.2/13.2 MB\u001b[0m \u001b[31m3.9 MB/s\u001b[0m eta \u001b[36m0:00:00\u001b[0mm eta \u001b[36m0:00:01\u001b[0m0:01\u001b[0m:01\u001b[0m\n",
      "Downloading joblib-1.4.2-py3-none-any.whl (301 kB)\n",
      "Downloading threadpoolctl-3.6.0-py3-none-any.whl (18 kB)\n",
      "Installing collected packages: threadpoolctl, joblib, scikit-learn\n",
      "Successfully installed joblib-1.4.2 scikit-learn-1.6.1 threadpoolctl-3.6.0\n"
     ]
    }
   ],
   "source": [
    "!pip install scikit-learn"
   ]
  },
  {
   "cell_type": "code",
   "execution_count": null,
   "id": "65551239-1b9b-4618-a3a7-27d47b75f63b",
   "metadata": {},
   "outputs": [],
   "source": []
  }
 ],
 "metadata": {
  "kernelspec": {
   "display_name": "Python 3 (ipykernel)",
   "language": "python",
   "name": "python3"
  },
  "language_info": {
   "codemirror_mode": {
    "name": "ipython",
    "version": 3
   },
   "file_extension": ".py",
   "mimetype": "text/x-python",
   "name": "python",
   "nbconvert_exporter": "python",
   "pygments_lexer": "ipython3",
   "version": "3.13.0"
  }
 },
 "nbformat": 4,
 "nbformat_minor": 5
}
