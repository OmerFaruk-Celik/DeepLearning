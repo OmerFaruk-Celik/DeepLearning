{
 "cells": [
  {
   "cell_type": "code",
   "execution_count": 2,
   "id": "f22dd6d0-1a6c-434b-88ec-077a554b4d76",
   "metadata": {},
   "outputs": [],
   "source": [
    "import cv2\n",
    "import threading"
   ]
  },
  {
   "cell_type": "code",
   "execution_count": 3,
   "id": "1f9ced63-6be9-4706-b617-3e885bff3500",
   "metadata": {},
   "outputs": [],
   "source": [
    "# Resim dosyasının yolu\n",
    "image_path = \"images/resim1.jpeg\"\n",
    "\n",
    "# Resmi yükle\n",
    "image = cv2.imread(image_path)"
   ]
  },
  {
   "cell_type": "code",
   "execution_count": 18,
   "id": "b70895aa-66b7-450a-a926-698dfcf00753",
   "metadata": {},
   "outputs": [],
   "source": [
    "\n",
    "ResimSayisi=[0]\n",
    "\n",
    "def goster(image,ResimSayisi=[0]):\n",
    "    # Resmi ekran,da göster\n",
    "    ResimSayisi[0]+=1\n",
    "    cv2.imshow(\"Resim\"+str(ResimSayisi[0]), image)\n",
    "    cv2.waitKey(0)\n",
    "    cv2.destroyAllWindows()\n",
    "    ResimSayisi[0]-=1"
   ]
  },
  {
   "cell_type": "code",
   "execution_count": null,
   "id": "75c680de-1ac2-4558-b0e3-937d1361d3aa",
   "metadata": {},
   "outputs": [],
   "source": []
  },
  {
   "cell_type": "code",
   "execution_count": 5,
   "id": "c0474119-5de9-41bf-97e0-d6611d3a92d1",
   "metadata": {},
   "outputs": [],
   "source": [
    "#goster(image,ResimSayisi)\n"
   ]
  },
  {
   "cell_type": "code",
   "execution_count": 6,
   "id": "f2cb675c-b726-49b0-bc2d-4742417d25c7",
   "metadata": {},
   "outputs": [],
   "source": [
    "#cv2.destroyAllWindows()\n",
    "#resim_thread=threading.Thread(target=goster,args=(image,ResimSayisi),daemon=True)\n",
    "#resim_thread.start()\n",
    "\n",
    "# Thread'in tamamlanmasını bekle (isteğe bağlı)\n",
    "#resim_thread.join()"
   ]
  },
  {
   "cell_type": "code",
   "execution_count": null,
   "id": "77d6feba-e324-4db2-9651-8ac0869f091d",
   "metadata": {},
   "outputs": [],
   "source": []
  },
  {
   "cell_type": "code",
   "execution_count": 7,
   "id": "f89cd339-0c6f-465c-b3ea-344b99df9041",
   "metadata": {},
   "outputs": [],
   "source": [
    "# Thread'in tamamlanmasını bekle (isteğe bağlı)\n",
    "#resim_thread.join()\n",
    "\n"
   ]
  },
  {
   "cell_type": "code",
   "execution_count": 8,
   "id": "d590a4d1-411a-4e30-91d3-1279cfb8b530",
   "metadata": {},
   "outputs": [
    {
     "data": {
      "text/plain": [
       "[0]"
      ]
     },
     "execution_count": 8,
     "metadata": {},
     "output_type": "execute_result"
    }
   ],
   "source": [
    "ResimSayisi"
   ]
  },
  {
   "cell_type": "code",
   "execution_count": 14,
   "id": "91d3184d-f01c-4fe8-8029-4d9b3ae3a5af",
   "metadata": {},
   "outputs": [
    {
     "data": {
      "text/plain": [
       "3"
      ]
     },
     "execution_count": 14,
     "metadata": {},
     "output_type": "execute_result"
    }
   ],
   "source": [
    "image.shape[2]"
   ]
  },
  {
   "cell_type": "code",
   "execution_count": 43,
   "id": "be2d3958-ea1e-43cf-a8aa-d1993c23a1f7",
   "metadata": {},
   "outputs": [],
   "source": [
    "a=image.copy()"
   ]
  },
  {
   "cell_type": "code",
   "execution_count": 42,
   "id": "15cfd7e4-41fb-4603-a4c7-7d14dc2d8ddd",
   "metadata": {},
   "outputs": [],
   "source": [
    "a=a[:,:][0]"
   ]
  },
  {
   "cell_type": "code",
   "execution_count": 38,
   "id": "c7a567cf-ee5e-40d6-afbe-2823467785bb",
   "metadata": {},
   "outputs": [],
   "source": [
    "goster(a)"
   ]
  },
  {
   "cell_type": "code",
   "execution_count": 34,
   "id": "078f5b3f-5c2f-48f7-9fc0-e345dc72db47",
   "metadata": {},
   "outputs": [
    {
     "data": {
      "text/plain": [
       "(225, 3)"
      ]
     },
     "execution_count": 34,
     "metadata": {},
     "output_type": "execute_result"
    }
   ],
   "source": []
  },
  {
   "cell_type": "code",
   "execution_count": 48,
   "id": "50c26cf4-6f96-4545-bf88-757a7c2090ee",
   "metadata": {},
   "outputs": [
    {
     "ename": "IndexError",
     "evalue": "index 3 is out of bounds for axis 2 with size 3",
     "output_type": "error",
     "traceback": [
      "\u001b[0;31m---------------------------------------------------------------------------\u001b[0m",
      "\u001b[0;31mIndexError\u001b[0m                                Traceback (most recent call last)",
      "Cell \u001b[0;32mIn[48], line 1\u001b[0m\n\u001b[0;32m----> 1\u001b[0m \u001b[43ma\u001b[49m\u001b[43m[\u001b[49m\u001b[43m:\u001b[49m\u001b[43m,\u001b[49m\u001b[43m:\u001b[49m\u001b[43m,\u001b[49m\u001b[38;5;241;43m3\u001b[39;49m\u001b[43m]\u001b[49m\n",
      "\u001b[0;31mIndexError\u001b[0m: index 3 is out of bounds for axis 2 with size 3"
     ]
    }
   ],
   "source": [
    "a[:,:,3]"
   ]
  },
  {
   "cell_type": "code",
   "execution_count": null,
   "id": "63cb2946-0799-4643-8030-1c1bf1cd3689",
   "metadata": {},
   "outputs": [],
   "source": []
  }
 ],
 "metadata": {
  "kernelspec": {
   "display_name": "Python 3 (ipykernel)",
   "language": "python",
   "name": "python3"
  },
  "language_info": {
   "codemirror_mode": {
    "name": "ipython",
    "version": 3
   },
   "file_extension": ".py",
   "mimetype": "text/x-python",
   "name": "python",
   "nbconvert_exporter": "python",
   "pygments_lexer": "ipython3",
   "version": "3.13.0"
  }
 },
 "nbformat": 4,
 "nbformat_minor": 5
}
