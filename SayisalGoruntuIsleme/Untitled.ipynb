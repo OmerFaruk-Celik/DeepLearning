{
 "cells": [
  {
   "cell_type": "code",
   "execution_count": 1,
   "id": "f22dd6d0-1a6c-434b-88ec-077a554b4d76",
   "metadata": {},
   "outputs": [],
   "source": [
    "import cv2"
   ]
  },
  {
   "cell_type": "code",
   "execution_count": 2,
   "id": "1f9ced63-6be9-4706-b617-3e885bff3500",
   "metadata": {},
   "outputs": [],
   "source": [
    "# Resim dosyasının yolu\n",
    "image_path = \"images/resim1.jpeg\"\n",
    "\n",
    "# Resmi yükle\n",
    "image = cv2.imread(image_path)"
   ]
  },
  {
   "cell_type": "code",
   "execution_count": 20,
   "id": "b70895aa-66b7-450a-a926-698dfcf00753",
   "metadata": {},
   "outputs": [],
   "source": [
    "\n",
    "\n",
    "def goster(image,ResimSayisi):\n",
    "    # Resmi ekran,da göster\n",
    "    ResimSayisi[0]+=1\n",
    "    cv2.imshow(\"Resim\"+str(ResimSayisi), image)\n",
    "    cv2.waitKey(0)\n",
    "    cv2.destroyAllWindows()\n",
    "    #ResimSayisi-=1"
   ]
  },
  {
   "cell_type": "code",
   "execution_count": 21,
   "id": "75c680de-1ac2-4558-b0e3-937d1361d3aa",
   "metadata": {},
   "outputs": [],
   "source": [
    "ResimSayisi=[0]\n"
   ]
  },
  {
   "cell_type": "code",
   "execution_count": 27,
   "id": "c0474119-5de9-41bf-97e0-d6611d3a92d1",
   "metadata": {},
   "outputs": [
    {
     "name": "stdout",
     "output_type": "stream",
     "text": [
      "[3]\n"
     ]
    }
   ],
   "source": [
    "goster(image,ResimSayisi)\n",
    "print(ResimSayisi)"
   ]
  },
  {
   "cell_type": "code",
   "execution_count": null,
   "id": "f2cb675c-b726-49b0-bc2d-4742417d25c7",
   "metadata": {},
   "outputs": [],
   "source": []
  }
 ],
 "metadata": {
  "kernelspec": {
   "display_name": "Python 3 (ipykernel)",
   "language": "python",
   "name": "python3"
  },
  "language_info": {
   "codemirror_mode": {
    "name": "ipython",
    "version": 3
   },
   "file_extension": ".py",
   "mimetype": "text/x-python",
   "name": "python",
   "nbconvert_exporter": "python",
   "pygments_lexer": "ipython3",
   "version": "3.13.0"
  }
 },
 "nbformat": 4,
 "nbformat_minor": 5
}
