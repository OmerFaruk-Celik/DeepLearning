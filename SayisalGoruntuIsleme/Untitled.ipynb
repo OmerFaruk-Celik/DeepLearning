{
 "cells": [
  {
   "cell_type": "code",
   "execution_count": 33,
   "id": "f22dd6d0-1a6c-434b-88ec-077a554b4d76",
   "metadata": {},
   "outputs": [],
   "source": [
    "import cv2\n",
    "import threading"
   ]
  },
  {
   "cell_type": "code",
   "execution_count": 2,
   "id": "1f9ced63-6be9-4706-b617-3e885bff3500",
   "metadata": {},
   "outputs": [],
   "source": [
    "# Resim dosyasının yolu\n",
    "image_path = \"images/resim1.jpeg\"\n",
    "\n",
    "# Resmi yükle\n",
    "image = cv2.imread(image_path)"
   ]
  },
  {
   "cell_type": "code",
   "execution_count": 39,
   "id": "b70895aa-66b7-450a-a926-698dfcf00753",
   "metadata": {},
   "outputs": [],
   "source": [
    "\n",
    "ResimSayisi=[0]\n",
    "\n",
    "def goster(image,ResimSayisi):\n",
    "    # Resmi ekran,da göster\n",
    "    ResimSayisi[0]+=1\n",
    "    cv2.imshow(\"Resim\"+str(ResimSayisi[0]), image)\n",
    "    cv2.waitKey(0)\n",
    "    cv2.destroyAllWindows()\n",
    "    ResimSayisi[0]-=1"
   ]
  },
  {
   "cell_type": "code",
   "execution_count": null,
   "id": "75c680de-1ac2-4558-b0e3-937d1361d3aa",
   "metadata": {},
   "outputs": [],
   "source": []
  },
  {
   "cell_type": "code",
   "execution_count": 41,
   "id": "c0474119-5de9-41bf-97e0-d6611d3a92d1",
   "metadata": {},
   "outputs": [],
   "source": [
    "goster(image,ResimSayisi)\n"
   ]
  },
  {
   "cell_type": "code",
   "execution_count": 44,
   "id": "f2cb675c-b726-49b0-bc2d-4742417d25c7",
   "metadata": {},
   "outputs": [
    {
     "name": "stderr",
     "output_type": "stream",
     "text": [
      "Exception in thread Thread-6 (goster):\n",
      "Traceback (most recent call last):\n",
      "  File \u001b[35m\"/home/celik/miniconda3/envs/AI/lib/python3.13/threading.py\"\u001b[0m, line \u001b[35m1041\u001b[0m, in \u001b[35m_bootstrap_inner\u001b[0m\n",
      "    \u001b[31mself.run\u001b[0m\u001b[1;31m()\u001b[0m\n",
      "    \u001b[31m~~~~~~~~\u001b[0m\u001b[1;31m^^\u001b[0m\n",
      "  File \u001b[35m\"/home/celik/miniconda3/envs/AI/lib/python3.13/site-packages/ipykernel/ipkernel.py\"\u001b[0m, line \u001b[35m766\u001b[0m, in \u001b[35mrun_closure\u001b[0m\n",
      "    \u001b[31m_threading_Thread_run\u001b[0m\u001b[1;31m(self)\u001b[0m\n",
      "    \u001b[31m~~~~~~~~~~~~~~~~~~~~~\u001b[0m\u001b[1;31m^^^^^^\u001b[0m\n",
      "  File \u001b[35m\"/home/celik/miniconda3/envs/AI/lib/python3.13/threading.py\"\u001b[0m, line \u001b[35m992\u001b[0m, in \u001b[35mrun\u001b[0m\n",
      "    \u001b[31mself._target\u001b[0m\u001b[1;31m(*self._args, **self._kwargs)\u001b[0m\n",
      "    \u001b[31m~~~~~~~~~~~~\u001b[0m\u001b[1;31m^^^^^^^^^^^^^^^^^^^^^^^^^^^^^\u001b[0m\n",
      "  File \u001b[35m\"/tmp/ipykernel_6888/564046987.py\"\u001b[0m, line \u001b[35m5\u001b[0m, in \u001b[35mgoster\u001b[0m\n",
      "    \u001b[31mResimSayisi\u001b[0m\u001b[1;31m[0]\u001b[0m+=1\n",
      "    \u001b[31m~~~~~~~~~~~\u001b[0m\u001b[1;31m^^^\u001b[0m\n",
      "\u001b[1;35mTypeError\u001b[0m: \u001b[35m'int' object is not subscriptable\u001b[0m\n"
     ]
    }
   ],
   "source": [
    "resim_thread=threading.Thread(target=goster,args=(image,ResimSayisi[0]))\n",
    "resim_thread.start()\n",
    "\n",
    "    # Thread'in tamamlanmasını bekle (isteğe bağlı)\n",
    "resim_thread.join()"
   ]
  },
  {
   "cell_type": "code",
   "execution_count": null,
   "id": "77d6feba-e324-4db2-9651-8ac0869f091d",
   "metadata": {},
   "outputs": [],
   "source": []
  }
 ],
 "metadata": {
  "kernelspec": {
   "display_name": "Python 3 (ipykernel)",
   "language": "python",
   "name": "python3"
  },
  "language_info": {
   "codemirror_mode": {
    "name": "ipython",
    "version": 3
   },
   "file_extension": ".py",
   "mimetype": "text/x-python",
   "name": "python",
   "nbconvert_exporter": "python",
   "pygments_lexer": "ipython3",
   "version": "3.13.0"
  }
 },
 "nbformat": 4,
 "nbformat_minor": 5
}
