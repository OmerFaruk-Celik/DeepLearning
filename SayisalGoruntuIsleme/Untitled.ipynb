{
 "cells": [
  {
   "cell_type": "code",
   "execution_count": 23,
   "id": "f22dd6d0-1a6c-434b-88ec-077a554b4d76",
   "metadata": {},
   "outputs": [],
   "source": [
    "import cv2\n",
    "import threading\n",
    "import numpy as np"
   ]
  },
  {
   "cell_type": "code",
   "execution_count": 3,
   "id": "1f9ced63-6be9-4706-b617-3e885bff3500",
   "metadata": {},
   "outputs": [],
   "source": []
  },
  {
   "cell_type": "code",
   "execution_count": 2,
   "id": "b70895aa-66b7-450a-a926-698dfcf00753",
   "metadata": {},
   "outputs": [],
   "source": [
    "# Resim dosyasının yolu\n",
    "image_path = \"images/resim7.jpeg\"\n",
    "\n",
    "# Resmi yükle\n",
    "image = cv2.imread(image_path)\n",
    "ResimSayisi=[0]\n",
    "\n",
    "def goster(image,ResimSayisi=[0]):\n",
    "    # Resmi ekran,da göster\n",
    "    ResimSayisi[0]+=1\n",
    "    cv2.imshow(\"Resim\"+str(ResimSayisi[0]), image)\n",
    "    cv2.waitKey(0)\n",
    "    cv2.destroyAllWindows()\n",
    "    ResimSayisi[0]-=1"
   ]
  },
  {
   "cell_type": "code",
   "execution_count": null,
   "id": "75c680de-1ac2-4558-b0e3-937d1361d3aa",
   "metadata": {},
   "outputs": [],
   "source": []
  },
  {
   "cell_type": "code",
   "execution_count": 5,
   "id": "c0474119-5de9-41bf-97e0-d6611d3a92d1",
   "metadata": {},
   "outputs": [],
   "source": [
    "#goster(image,ResimSayisi)\n"
   ]
  },
  {
   "cell_type": "code",
   "execution_count": 6,
   "id": "f2cb675c-b726-49b0-bc2d-4742417d25c7",
   "metadata": {},
   "outputs": [],
   "source": [
    "#cv2.destroyAllWindows()\n",
    "#resim_thread=threading.Thread(target=goster,args=(image,ResimSayisi),daemon=True)\n",
    "#resim_thread.start()\n",
    "\n",
    "# Thread'in tamamlanmasını bekle (isteğe bağlı)\n",
    "#resim_thread.join()"
   ]
  },
  {
   "cell_type": "code",
   "execution_count": null,
   "id": "77d6feba-e324-4db2-9651-8ac0869f091d",
   "metadata": {},
   "outputs": [],
   "source": []
  },
  {
   "cell_type": "code",
   "execution_count": 7,
   "id": "f89cd339-0c6f-465c-b3ea-344b99df9041",
   "metadata": {},
   "outputs": [],
   "source": [
    "# Thread'in tamamlanmasını bekle (isteğe bağlı)\n",
    "#resim_thread.join()\n",
    "\n"
   ]
  },
  {
   "cell_type": "code",
   "execution_count": null,
   "id": "d590a4d1-411a-4e30-91d3-1279cfb8b530",
   "metadata": {},
   "outputs": [],
   "source": []
  },
  {
   "cell_type": "code",
   "execution_count": 3,
   "id": "91d3184d-f01c-4fe8-8029-4d9b3ae3a5af",
   "metadata": {},
   "outputs": [],
   "source": [
    "# Resim dosyasının yolu\n",
    "image_path = \"images/resim1.jpeg\"\n",
    "\n",
    "# Resmi yükle\n",
    "image = cv2.imread(image_path)\n",
    "ResimSayisi=[0]\n",
    "\n",
    "def goster(image,ResimSayisi=[0]):\n",
    "    # Resmi ekran,da göster\n",
    "    ResimSayisi[0]+=1\n",
    "    cv2.imshow(\"Resim\"+str(ResimSayisi[0]), image)\n",
    "    cv2.waitKey(0)\n",
    "    cv2.destroyAllWindows()\n",
    "    ResimSayisi[0]-=1"
   ]
  },
  {
   "cell_type": "code",
   "execution_count": null,
   "id": "be2d3958-ea1e-43cf-a8aa-d1993c23a1f7",
   "metadata": {},
   "outputs": [],
   "source": []
  },
  {
   "cell_type": "code",
   "execution_count": 33,
   "id": "15cfd7e4-41fb-4603-a4c7-7d14dc2d8ddd",
   "metadata": {},
   "outputs": [],
   "source": [
    "a=image.copy()\n",
    "a=a[:,:,1]"
   ]
  },
  {
   "cell_type": "code",
   "execution_count": null,
   "id": "793deba8-02a6-4b68-b478-c708c46ffe4d",
   "metadata": {},
   "outputs": [],
   "source": []
  },
  {
   "cell_type": "code",
   "execution_count": 6,
   "id": "c7a567cf-ee5e-40d6-afbe-2823467785bb",
   "metadata": {},
   "outputs": [],
   "source": [
    "goster(a)"
   ]
  },
  {
   "cell_type": "code",
   "execution_count": 34,
   "id": "078f5b3f-5c2f-48f7-9fc0-e345dc72db47",
   "metadata": {},
   "outputs": [
    {
     "data": {
      "text/plain": [
       "(225, 225)"
      ]
     },
     "execution_count": 34,
     "metadata": {},
     "output_type": "execute_result"
    }
   ],
   "source": [
    "a.shape"
   ]
  },
  {
   "cell_type": "code",
   "execution_count": 80,
   "id": "be4e6846-8eed-4811-8790-42f3d41f7897",
   "metadata": {},
   "outputs": [
    {
     "data": {
      "text/plain": [
       "1.0"
      ]
     },
     "execution_count": 80,
     "metadata": {},
     "output_type": "execute_result"
    }
   ],
   "source": [
    "dizi=np.zeros((256,4),dtype=object)\n",
    "toplam=0\n",
    "for i in range(256):\n",
    "    frekans= np.sum(a==i)\n",
    "    #print(frekans)\n",
    "    dizi[i,0]=i\n",
    "    dizi[i,1]=int(frekans)\n",
    "    olasilik=float(frekans/(len(a)*len(a)))\n",
    "    dizi[i,2]=olasilik\n",
    "    toplam+=olasilik\n",
    "    dizi[i,3]=toplam\n",
    "    \n",
    "toplam\n",
    "        \n"
   ]
  },
  {
   "cell_type": "code",
   "execution_count": 83,
   "id": "50c26cf4-6f96-4545-bf88-757a7c2090ee",
   "metadata": {},
   "outputs": [],
   "source": [
    "import matplotlib.pyplot as plt"
   ]
  },
  {
   "cell_type": "code",
   "execution_count": 81,
   "id": "d48c8f68-aba6-4c5d-af87-8e177aa14db4",
   "metadata": {},
   "outputs": [
    {
     "data": {
      "text/plain": [
       "array([[0, 65, 0.0012839506172839506, 0.0012839506172839506],\n",
       "       [1, 6, 0.00011851851851851852, 0.001402469135802469],\n",
       "       [2, 11, 0.00021728395061728395, 0.001619753086419753],\n",
       "       ...,\n",
       "       [253, 3, 5.925925925925926e-05, 0.9991901234567901],\n",
       "       [254, 3, 5.925925925925926e-05, 0.9992493827160495],\n",
       "       [255, 38, 0.0007506172839506173, 1.0]],\n",
       "      shape=(256, 4), dtype=object)"
      ]
     },
     "execution_count": 81,
     "metadata": {},
     "output_type": "execute_result"
    }
   ],
   "source": [
    "dizi"
   ]
  },
  {
   "cell_type": "code",
   "execution_count": 86,
   "id": "63cb2946-0799-4643-8030-1c1bf1cd3689",
   "metadata": {},
   "outputs": [
    {
     "data": {
      "image/png": "[encoded data removed]",
      "text/plain": [
       "<Figure size 640x480 with 1 Axes>"
      ]
     },
     "metadata": {},
     "output_type": "display_data"
    }
   ],
   "source": [
    "# Histogram çiz\n",
    "plt.hist(dizi[:,1], bins=30, color='blue', alpha=0.7, edgecolor='black')\n",
    "\n",
    "# Grafik başlıkları ve etiketler\n",
    "plt.title(\"Histogram Örneği\")\n",
    "plt.xlabel(\"Değerler\")\n",
    "plt.ylabel(\"Frekans\")\n",
    "\n",
    "# Grafiği göster\n",
    "plt.show()\n"
   ]
  },
  {
   "cell_type": "code",
   "execution_count": 104,
   "id": "ceedab8c-435c-47ca-97f1-e9408ab04a57",
   "metadata": {},
   "outputs": [
    {
     "ename": "ValueError",
     "evalue": "could not broadcast input array from shape (3,3) into shape (3,2)",
     "output_type": "error",
     "traceback": [
      "\u001b[0;31m---------------------------------------------------------------------------\u001b[0m",
      "\u001b[0;31mValueError\u001b[0m                                Traceback (most recent call last)",
      "Cell \u001b[0;32mIn[104], line 8\u001b[0m\n\u001b[1;32m      6\u001b[0m \u001b[38;5;28;01mfor\u001b[39;00m j \u001b[38;5;129;01min\u001b[39;00m \u001b[38;5;28mrange\u001b[39m(\u001b[38;5;241m227\u001b[39m\u001b[38;5;241m-\u001b[39m\u001b[38;5;241m3\u001b[39m):\n\u001b[1;32m      7\u001b[0m     UCxUC\u001b[38;5;241m=\u001b[39ma_pad[i:i\u001b[38;5;241m+\u001b[39m\u001b[38;5;241m3\u001b[39m,j:j\u001b[38;5;241m+\u001b[39m\u001b[38;5;241m3\u001b[39m]\n\u001b[0;32m----> 8\u001b[0m     \u001b[43myeni_a\u001b[49m\u001b[43m[\u001b[49m\u001b[43mi\u001b[49m\u001b[43m:\u001b[49m\u001b[43mi\u001b[49m\u001b[38;5;241;43m+\u001b[39;49m\u001b[38;5;241;43m3\u001b[39;49m\u001b[43m,\u001b[49m\u001b[43mj\u001b[49m\u001b[43m:\u001b[49m\u001b[43mj\u001b[49m\u001b[38;5;241;43m+\u001b[39;49m\u001b[38;5;241;43m3\u001b[39;49m\u001b[43m]\u001b[49m\u001b[38;5;241m=\u001b[39mkeskinlestiren\u001b[38;5;241m*\u001b[39mUCxUC\n",
      "\u001b[0;31mValueError\u001b[0m: could not broadcast input array from shape (3,3) into shape (3,2)"
     ]
    }
   ],
   "source": [
    "stride=1\n",
    "keskinlestiren=np.array([[0,-1,0],[-1,4,-1],[ 0,-1,0]])\n",
    "yeni_a=np.zeros((225,225),dtype=int)\n",
    "a_pad=np.pad(a, pad_width=1, mode='constant', constant_values=0)\n",
    "for i in range(227-3):\n",
    "    for j in range(227-3):\n",
    "        UCxUC=a_pad[i:i+3,j:j+3]\n",
    "        yeni_a[i:i+3,j:j+3]=keskinlestiren*UCxUC\n",
    "\n",
    "        "
   ]
  },
  {
   "cell_type": "code",
   "execution_count": 101,
   "id": "5f77d9f0-dbce-480f-9e2f-c1d4a761e82a",
   "metadata": {},
   "outputs": [
    {
     "data": {
      "text/plain": [
       "225.0"
      ]
     },
     "execution_count": 101,
     "metadata": {},
     "output_type": "execute_result"
    }
   ],
   "source": [
    "n=225\n",
    "p=1\n",
    "f=3\n",
    "s=1\n",
    "size=(n+2*p-f)/s +1\n",
    "size"
   ]
  },
  {
   "cell_type": "code",
   "execution_count": null,
   "id": "03dbc565-5077-4467-bb77-ceeed8bdab45",
   "metadata": {},
   "outputs": [],
   "source": []
  },
  {
   "cell_type": "code",
   "execution_count": 95,
   "id": "6fd0da3f-e230-41ee-ac5c-42a567a4cf25",
   "metadata": {},
   "outputs": [
    {
     "data": {
      "text/plain": [
       "array([[ 0, -2,  0],\n",
       "       [-2,  8, -2],\n",
       "       [ 0, -2,  0]])"
      ]
     },
     "execution_count": 95,
     "metadata": {},
     "output_type": "execute_result"
    }
   ],
   "source": [
    "keskinlestiren2*keskinlestiren"
   ]
  },
  {
   "cell_type": "code",
   "execution_count": null,
   "id": "1ca400a0-3121-4451-a830-795eabd8343a",
   "metadata": {},
   "outputs": [],
   "source": []
  }
 ],
 "metadata": {
  "kernelspec": {
   "display_name": "Python 3 (ipykernel)",
   "language": "python",
   "name": "python3"
  },
  "language_info": {
   "codemirror_mode": {
    "name": "ipython",
    "version": 3
   },
   "file_extension": ".py",
   "mimetype": "text/x-python",
   "name": "python",
   "nbconvert_exporter": "python",
   "pygments_lexer": "ipython3",
   "version": "3.13.0"
  }
 },
 "nbformat": 4,
 "nbformat_minor": 5
}
